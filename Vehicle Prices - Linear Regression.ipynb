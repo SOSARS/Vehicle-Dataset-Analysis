{
 "cells": [
  {
   "cell_type": "markdown",
   "id": "939ce046",
   "metadata": {},
   "source": [
    "# Linear Regression Analysis on the Vehicle Dataset "
   ]
  },
  {
   "cell_type": "markdown",
   "id": "4b26a400",
   "metadata": {},
   "source": [
    "## Abstract\n",
    "\n",
    "Link to the dataset: [Car Data: https://www.kaggle.com/datasets/nehalbirla/vehicle-dataset-from-cardekho] \n",
    "\n",
    "The dataset has been sourced from Kaggle, provided by `NEHAL BIRLA AND 2 COLLABORATORS.`\n",
    "The data provided pertains to information related to the sale of pre-owned vehicles. These vehicles in the dataset have either been sold from a dealership or sold privately. This analysis serves as a way of determining which factors contribute to the price that these pre-owned vehicles have been sold at, and to what extent these factors affect the selling price of the vehicle. \n",
    "\n",
    "The analysis will follow this order:\n",
    "\n",
    "1. EDA (Exploratory Data Analysis) - An analysis of the data, where quick insights can be learned, and uninformed assumptions can be made. This EDA will also allow for the cleaning and pre-processing of the data if needed.\n",
    "<br><br>\n",
    "2. Data Visualisations - Visualising the data being observed in statistical plots.\n",
    "<br><br>\n",
    "3. Statistical Analysis - Determining the correlation between the independent variable(s), being the factors that have an effect on the selling the price of the vehicle, and the dependent variable, being the selling price of the vehicle.\n",
    "<br><br>\n",
    "4. Model Building & Prediction Generation - Initialising the regression model, fitting the data to the model, testing the model on the fitted data, and then generating predictions on what the model assumes will be the selling price based on what it has learned.\n",
    "<br><br>\n",
    "5. Model Assessment - Assessing how the model performed, and making inferences/disclosing information on its performance.\n",
    "<br><br>\n",
    "6. Closing thoughts & Findings - Revealing what the model's performance indicates, and what its predictions suggest.\n",
    "<br><br>\n",
    "7. Sources - Links of the sources used to complete this analysis."
   ]
  },
  {
   "cell_type": "markdown",
   "id": "0fb44e1d",
   "metadata": {},
   "source": [
    "### Required Libraries"
   ]
  },
  {
   "cell_type": "code",
   "execution_count": 2,
   "id": "991cb795",
   "metadata": {},
   "outputs": [],
   "source": [
    "import pandas\n",
    "import numpy as np\n",
    "import matplotlib.pyplot as plt\n",
    "import seaborn as sns\n",
    "from sklearn.linear_model import LinearRegression\n",
    "from sklearn.model_selection import train_test_split\n",
    "from wordcloud import WordCloud, STOPWORDS\n",
    "\n",
    "# Setting the styling of the visualisations\n",
    "sns.set()"
   ]
  },
  {
   "cell_type": "markdown",
   "id": "7cee6aae",
   "metadata": {},
   "source": [
    "## Exploratory Data Analysis"
   ]
  },
  {
   "cell_type": "code",
   "execution_count": 3,
   "id": "5f338fb8",
   "metadata": {},
   "outputs": [
    {
     "data": {
      "text/html": [
       "<div>\n",
       "<style scoped>\n",
       "    .dataframe tbody tr th:only-of-type {\n",
       "        vertical-align: middle;\n",
       "    }\n",
       "\n",
       "    .dataframe tbody tr th {\n",
       "        vertical-align: top;\n",
       "    }\n",
       "\n",
       "    .dataframe thead th {\n",
       "        text-align: right;\n",
       "    }\n",
       "</style>\n",
       "<table border=\"1\" class=\"dataframe\">\n",
       "  <thead>\n",
       "    <tr style=\"text-align: right;\">\n",
       "      <th></th>\n",
       "      <th>Car_Name</th>\n",
       "      <th>Year</th>\n",
       "      <th>Selling_Price</th>\n",
       "      <th>Present_Price</th>\n",
       "      <th>Kms_Driven</th>\n",
       "      <th>Fuel_Type</th>\n",
       "      <th>Seller_Type</th>\n",
       "      <th>Transmission</th>\n",
       "      <th>Owner</th>\n",
       "    </tr>\n",
       "  </thead>\n",
       "  <tbody>\n",
       "    <tr>\n",
       "      <th>0</th>\n",
       "      <td>ritz</td>\n",
       "      <td>2014</td>\n",
       "      <td>3.35</td>\n",
       "      <td>5.59</td>\n",
       "      <td>27000</td>\n",
       "      <td>Petrol</td>\n",
       "      <td>Dealer</td>\n",
       "      <td>Manual</td>\n",
       "      <td>0</td>\n",
       "    </tr>\n",
       "    <tr>\n",
       "      <th>1</th>\n",
       "      <td>sx4</td>\n",
       "      <td>2013</td>\n",
       "      <td>4.75</td>\n",
       "      <td>9.54</td>\n",
       "      <td>43000</td>\n",
       "      <td>Diesel</td>\n",
       "      <td>Dealer</td>\n",
       "      <td>Manual</td>\n",
       "      <td>0</td>\n",
       "    </tr>\n",
       "    <tr>\n",
       "      <th>2</th>\n",
       "      <td>ciaz</td>\n",
       "      <td>2017</td>\n",
       "      <td>7.25</td>\n",
       "      <td>9.85</td>\n",
       "      <td>6900</td>\n",
       "      <td>Petrol</td>\n",
       "      <td>Dealer</td>\n",
       "      <td>Manual</td>\n",
       "      <td>0</td>\n",
       "    </tr>\n",
       "    <tr>\n",
       "      <th>3</th>\n",
       "      <td>wagon r</td>\n",
       "      <td>2011</td>\n",
       "      <td>2.85</td>\n",
       "      <td>4.15</td>\n",
       "      <td>5200</td>\n",
       "      <td>Petrol</td>\n",
       "      <td>Dealer</td>\n",
       "      <td>Manual</td>\n",
       "      <td>0</td>\n",
       "    </tr>\n",
       "    <tr>\n",
       "      <th>4</th>\n",
       "      <td>swift</td>\n",
       "      <td>2014</td>\n",
       "      <td>4.60</td>\n",
       "      <td>6.87</td>\n",
       "      <td>42450</td>\n",
       "      <td>Diesel</td>\n",
       "      <td>Dealer</td>\n",
       "      <td>Manual</td>\n",
       "      <td>0</td>\n",
       "    </tr>\n",
       "    <tr>\n",
       "      <th>...</th>\n",
       "      <td>...</td>\n",
       "      <td>...</td>\n",
       "      <td>...</td>\n",
       "      <td>...</td>\n",
       "      <td>...</td>\n",
       "      <td>...</td>\n",
       "      <td>...</td>\n",
       "      <td>...</td>\n",
       "      <td>...</td>\n",
       "    </tr>\n",
       "    <tr>\n",
       "      <th>296</th>\n",
       "      <td>city</td>\n",
       "      <td>2016</td>\n",
       "      <td>9.50</td>\n",
       "      <td>11.60</td>\n",
       "      <td>33988</td>\n",
       "      <td>Diesel</td>\n",
       "      <td>Dealer</td>\n",
       "      <td>Manual</td>\n",
       "      <td>0</td>\n",
       "    </tr>\n",
       "    <tr>\n",
       "      <th>297</th>\n",
       "      <td>brio</td>\n",
       "      <td>2015</td>\n",
       "      <td>4.00</td>\n",
       "      <td>5.90</td>\n",
       "      <td>60000</td>\n",
       "      <td>Petrol</td>\n",
       "      <td>Dealer</td>\n",
       "      <td>Manual</td>\n",
       "      <td>0</td>\n",
       "    </tr>\n",
       "    <tr>\n",
       "      <th>298</th>\n",
       "      <td>city</td>\n",
       "      <td>2009</td>\n",
       "      <td>3.35</td>\n",
       "      <td>11.00</td>\n",
       "      <td>87934</td>\n",
       "      <td>Petrol</td>\n",
       "      <td>Dealer</td>\n",
       "      <td>Manual</td>\n",
       "      <td>0</td>\n",
       "    </tr>\n",
       "    <tr>\n",
       "      <th>299</th>\n",
       "      <td>city</td>\n",
       "      <td>2017</td>\n",
       "      <td>11.50</td>\n",
       "      <td>12.50</td>\n",
       "      <td>9000</td>\n",
       "      <td>Diesel</td>\n",
       "      <td>Dealer</td>\n",
       "      <td>Manual</td>\n",
       "      <td>0</td>\n",
       "    </tr>\n",
       "    <tr>\n",
       "      <th>300</th>\n",
       "      <td>brio</td>\n",
       "      <td>2016</td>\n",
       "      <td>5.30</td>\n",
       "      <td>5.90</td>\n",
       "      <td>5464</td>\n",
       "      <td>Petrol</td>\n",
       "      <td>Dealer</td>\n",
       "      <td>Manual</td>\n",
       "      <td>0</td>\n",
       "    </tr>\n",
       "  </tbody>\n",
       "</table>\n",
       "<p>301 rows × 9 columns</p>\n",
       "</div>"
      ],
      "text/plain": [
       "    Car_Name  Year  Selling_Price  Present_Price  Kms_Driven Fuel_Type  \\\n",
       "0       ritz  2014           3.35           5.59       27000    Petrol   \n",
       "1        sx4  2013           4.75           9.54       43000    Diesel   \n",
       "2       ciaz  2017           7.25           9.85        6900    Petrol   \n",
       "3    wagon r  2011           2.85           4.15        5200    Petrol   \n",
       "4      swift  2014           4.60           6.87       42450    Diesel   \n",
       "..       ...   ...            ...            ...         ...       ...   \n",
       "296     city  2016           9.50          11.60       33988    Diesel   \n",
       "297     brio  2015           4.00           5.90       60000    Petrol   \n",
       "298     city  2009           3.35          11.00       87934    Petrol   \n",
       "299     city  2017          11.50          12.50        9000    Diesel   \n",
       "300     brio  2016           5.30           5.90        5464    Petrol   \n",
       "\n",
       "    Seller_Type Transmission  Owner  \n",
       "0        Dealer       Manual      0  \n",
       "1        Dealer       Manual      0  \n",
       "2        Dealer       Manual      0  \n",
       "3        Dealer       Manual      0  \n",
       "4        Dealer       Manual      0  \n",
       "..          ...          ...    ...  \n",
       "296      Dealer       Manual      0  \n",
       "297      Dealer       Manual      0  \n",
       "298      Dealer       Manual      0  \n",
       "299      Dealer       Manual      0  \n",
       "300      Dealer       Manual      0  \n",
       "\n",
       "[301 rows x 9 columns]"
      ]
     },
     "execution_count": 3,
     "metadata": {},
     "output_type": "execute_result"
    }
   ],
   "source": [
    "# Reading the data into a pandas DataFrame\n",
    "data = pandas.read_csv(\"data/cars.csv\")\n",
    "data"
   ]
  },
  {
   "cell_type": "markdown",
   "id": "9c60cc1e",
   "metadata": {},
   "source": [
    "### Data Exploration"
   ]
  },
  {
   "cell_type": "code",
   "execution_count": 6,
   "id": "517e2a4e",
   "metadata": {},
   "outputs": [
    {
     "data": {
      "text/html": [
       "<div>\n",
       "<style scoped>\n",
       "    .dataframe tbody tr th:only-of-type {\n",
       "        vertical-align: middle;\n",
       "    }\n",
       "\n",
       "    .dataframe tbody tr th {\n",
       "        vertical-align: top;\n",
       "    }\n",
       "\n",
       "    .dataframe thead th {\n",
       "        text-align: right;\n",
       "    }\n",
       "</style>\n",
       "<table border=\"1\" class=\"dataframe\">\n",
       "  <thead>\n",
       "    <tr style=\"text-align: right;\">\n",
       "      <th></th>\n",
       "      <th>Year</th>\n",
       "      <th>Selling_Price</th>\n",
       "      <th>Present_Price</th>\n",
       "      <th>Kms_Driven</th>\n",
       "      <th>Owner</th>\n",
       "    </tr>\n",
       "  </thead>\n",
       "  <tbody>\n",
       "    <tr>\n",
       "      <th>count</th>\n",
       "      <td>301.000000</td>\n",
       "      <td>301.000000</td>\n",
       "      <td>301.000000</td>\n",
       "      <td>301.000000</td>\n",
       "      <td>301.000000</td>\n",
       "    </tr>\n",
       "    <tr>\n",
       "      <th>mean</th>\n",
       "      <td>2013.627907</td>\n",
       "      <td>4.661296</td>\n",
       "      <td>7.628472</td>\n",
       "      <td>36947.205980</td>\n",
       "      <td>0.043189</td>\n",
       "    </tr>\n",
       "    <tr>\n",
       "      <th>std</th>\n",
       "      <td>2.891554</td>\n",
       "      <td>5.082812</td>\n",
       "      <td>8.644115</td>\n",
       "      <td>38886.883882</td>\n",
       "      <td>0.247915</td>\n",
       "    </tr>\n",
       "    <tr>\n",
       "      <th>min</th>\n",
       "      <td>2003.000000</td>\n",
       "      <td>0.100000</td>\n",
       "      <td>0.320000</td>\n",
       "      <td>500.000000</td>\n",
       "      <td>0.000000</td>\n",
       "    </tr>\n",
       "    <tr>\n",
       "      <th>25%</th>\n",
       "      <td>2012.000000</td>\n",
       "      <td>0.900000</td>\n",
       "      <td>1.200000</td>\n",
       "      <td>15000.000000</td>\n",
       "      <td>0.000000</td>\n",
       "    </tr>\n",
       "    <tr>\n",
       "      <th>50%</th>\n",
       "      <td>2014.000000</td>\n",
       "      <td>3.600000</td>\n",
       "      <td>6.400000</td>\n",
       "      <td>32000.000000</td>\n",
       "      <td>0.000000</td>\n",
       "    </tr>\n",
       "    <tr>\n",
       "      <th>75%</th>\n",
       "      <td>2016.000000</td>\n",
       "      <td>6.000000</td>\n",
       "      <td>9.900000</td>\n",
       "      <td>48767.000000</td>\n",
       "      <td>0.000000</td>\n",
       "    </tr>\n",
       "    <tr>\n",
       "      <th>max</th>\n",
       "      <td>2018.000000</td>\n",
       "      <td>35.000000</td>\n",
       "      <td>92.600000</td>\n",
       "      <td>500000.000000</td>\n",
       "      <td>3.000000</td>\n",
       "    </tr>\n",
       "  </tbody>\n",
       "</table>\n",
       "</div>"
      ],
      "text/plain": [
       "              Year  Selling_Price  Present_Price     Kms_Driven       Owner\n",
       "count   301.000000     301.000000     301.000000     301.000000  301.000000\n",
       "mean   2013.627907       4.661296       7.628472   36947.205980    0.043189\n",
       "std       2.891554       5.082812       8.644115   38886.883882    0.247915\n",
       "min    2003.000000       0.100000       0.320000     500.000000    0.000000\n",
       "25%    2012.000000       0.900000       1.200000   15000.000000    0.000000\n",
       "50%    2014.000000       3.600000       6.400000   32000.000000    0.000000\n",
       "75%    2016.000000       6.000000       9.900000   48767.000000    0.000000\n",
       "max    2018.000000      35.000000      92.600000  500000.000000    3.000000"
      ]
     },
     "execution_count": 6,
     "metadata": {},
     "output_type": "execute_result"
    }
   ],
   "source": [
    "data.describe()"
   ]
  },
  {
   "cell_type": "markdown",
   "id": "645bed47",
   "metadata": {},
   "source": [
    "The following information can be discerned from the statistics table above:\n",
    "\n",
    "* Information related to 301 cars has been provided in the dataset.\n",
    "<br><br>\n",
    "* The lowest price recorded for a vehicle is 0.1. It is extremely unlikely that a vechile would be sold for 10 cents, therefore, we may assume that the vehicle prices have been scaled in some way. It may be assumed that the prices have each been divided by either one of 10 000 or 100 000. Again, this is dependent on the region because if this dataset is related to prices in a region like the United States of America (USA), then it is very unlikely that a used vehicle would be sold for 3.5 million dollars, however, a used vehicle may go for that price in a different region. It will be assumed that these vehicle prices pertain to the USA and have therefore been divided by 10 000. Therefore, the lowest price a vehicle has been recorded at is 1 000 dollars. The highest recorded price being 350 000 dollars.\n",
    "<br><br>\n",
    "* The oldest car model recorded is 2003, with the most recent model being 2018.\n",
    "<br><br>\n",
    "* The average selling price of the vehicles is 46 612.96 dollars, with a standard deviation of 50 828.12 dollars. This standard deviation informs us of the variance of the vehicle prices from the average selling price. So in essence, the vehicle prices are very far apart from each other. Why that is will be investigated in this analysis.\n",
    "<br><br>\n",
    "* The present price of the vehicles may pertain to the current value of the vehicles. What this statististic is suggesting however, does not comply with reasonable logic. A used vehicle does not appreciate in value. The moment a vehicle leaves the shop floor, the value drops immediately. So if a vehicle depreciates when it is bought and owned for the first time, it cannot appreciate when it is bought and owned for a second, third, or even a fourth time.\n",
    "<br><br>\n",
    "* There are vehicles recorded to have had no owners, and vehicles that have had up to three different owners. This will be investigated.\n",
    "<br><br>\n",
    "* The highest mileage recorded from the vehicles in the dataset is 500 000km, with the lowest recorded being 500km.\n",
    "\n",
    "\n",
    "Final note:\n",
    "\n",
    "The lowest recorded year is 2003, with the latest year recorded being 2018. The statistical table above reveals that the average year is 2013, indicating that the majority of vehicles recorded in this dataset may be considered \"new models\" as opposed to old vehicles. One may assume that the majority of vehicles are at least from 2010 and above. This will also be investigated to determine whether some vehicles in the dataset may fetch a higher price due to their \"old status.\" These vehicles may be collectibles afterall."
   ]
  },
  {
   "cell_type": "code",
   "execution_count": 7,
   "id": "8e0e2993",
   "metadata": {},
   "outputs": [
    {
     "data": {
      "text/plain": [
       "city                        26\n",
       "corolla altis               16\n",
       "verna                       14\n",
       "fortuner                    11\n",
       "brio                        10\n",
       "                            ..\n",
       "Honda CB Trigger             1\n",
       "Yamaha FZ S                  1\n",
       "Bajaj Pulsar 135 LS          1\n",
       "Activa 4g                    1\n",
       "Bajaj Avenger Street 220     1\n",
       "Name: Car_Name, Length: 98, dtype: int64"
      ]
     },
     "execution_count": 7,
     "metadata": {},
     "output_type": "execute_result"
    }
   ],
   "source": [
    "data[\"Car_Name\"].value_counts()"
   ]
  },
  {
   "cell_type": "code",
   "execution_count": 8,
   "id": "daa0c121",
   "metadata": {},
   "outputs": [
    {
     "data": {
      "text/plain": [
       "Petrol    239\n",
       "Diesel     60\n",
       "CNG         2\n",
       "Name: Fuel_Type, dtype: int64"
      ]
     },
     "execution_count": 8,
     "metadata": {},
     "output_type": "execute_result"
    }
   ],
   "source": [
    "data[\"Fuel_Type\"].value_counts()"
   ]
  },
  {
   "cell_type": "code",
   "execution_count": 9,
   "id": "87ca896a",
   "metadata": {},
   "outputs": [
    {
     "data": {
      "text/plain": [
       "Dealer        195\n",
       "Individual    106\n",
       "Name: Seller_Type, dtype: int64"
      ]
     },
     "execution_count": 9,
     "metadata": {},
     "output_type": "execute_result"
    }
   ],
   "source": [
    "data[\"Seller_Type\"].value_counts()"
   ]
  },
  {
   "cell_type": "code",
   "execution_count": 10,
   "id": "39e8180e",
   "metadata": {},
   "outputs": [
    {
     "data": {
      "text/plain": [
       "Manual       261\n",
       "Automatic     40\n",
       "Name: Transmission, dtype: int64"
      ]
     },
     "execution_count": 10,
     "metadata": {},
     "output_type": "execute_result"
    }
   ],
   "source": [
    "data[\"Transmission\"].value_counts()"
   ]
  },
  {
   "cell_type": "code",
   "execution_count": 11,
   "id": "31cac496",
   "metadata": {},
   "outputs": [
    {
     "data": {
      "text/plain": [
       "Car_Name         0\n",
       "Year             0\n",
       "Selling_Price    0\n",
       "Present_Price    0\n",
       "Kms_Driven       0\n",
       "Fuel_Type        0\n",
       "Seller_Type      0\n",
       "Transmission     0\n",
       "Owner            0\n",
       "dtype: int64"
      ]
     },
     "execution_count": 11,
     "metadata": {},
     "output_type": "execute_result"
    }
   ],
   "source": [
    "# Checking for null values\n",
    "data.isna().sum()"
   ]
  },
  {
   "cell_type": "code",
   "execution_count": 12,
   "id": "a329d5f5",
   "metadata": {},
   "outputs": [
    {
     "data": {
      "text/plain": [
       "Car_Name           0\n",
       "Year               0\n",
       "Selling_Price      0\n",
       "Present_Price      0\n",
       "Kms_Driven         0\n",
       "Fuel_Type          0\n",
       "Seller_Type        0\n",
       "Transmission       0\n",
       "Owner            290\n",
       "dtype: int64"
      ]
     },
     "execution_count": 12,
     "metadata": {},
     "output_type": "execute_result"
    }
   ],
   "source": [
    "# Checking whether null values may have been substituted for zeroes\n",
    "zero_mask = data == 0\n",
    "zero_counts = zero_mask.sum()\n",
    "zero_counts"
   ]
  },
  {
   "cell_type": "markdown",
   "id": "82f6ea08",
   "metadata": {},
   "source": [
    "### Observations\n",
    "\n",
    "* There are significantly more manual transmission vehicles than automatic transmission vehicles.\n",
    "<br><br>\n",
    "* A significant portion of the vehicles in the dataset are Petrol vehicles, with the other two fuel types being Diesel, and CNG. \"CNG\" vehicles refer to natural gas vehicles."
   ]
  },
  {
   "cell_type": "markdown",
   "id": "fc18d8df",
   "metadata": {},
   "source": [
    "### Data Cleaning"
   ]
  },
  {
   "cell_type": "markdown",
   "id": "8a6e039f",
   "metadata": {},
   "source": [
    "After observations, this dataset appears to be relatively clean. This suggests that there are neither data inconsistencies nor null values in the set. The data will be visualised to ensure that this rings true.\n",
    "\n",
    "Some columns will be converted to numerical values so that they can be fitted to the linear model later on, and observed. These columns will be `Fuel_Type`, `Seller_Type`, and `Transmission`."
   ]
  },
  {
   "cell_type": "code",
   "execution_count": 13,
   "id": "df86ca89",
   "metadata": {},
   "outputs": [
    {
     "data": {
      "text/html": [
       "<div>\n",
       "<style scoped>\n",
       "    .dataframe tbody tr th:only-of-type {\n",
       "        vertical-align: middle;\n",
       "    }\n",
       "\n",
       "    .dataframe tbody tr th {\n",
       "        vertical-align: top;\n",
       "    }\n",
       "\n",
       "    .dataframe thead th {\n",
       "        text-align: right;\n",
       "    }\n",
       "</style>\n",
       "<table border=\"1\" class=\"dataframe\">\n",
       "  <thead>\n",
       "    <tr style=\"text-align: right;\">\n",
       "      <th></th>\n",
       "      <th>Car_Name</th>\n",
       "      <th>Year</th>\n",
       "      <th>Selling_Price</th>\n",
       "      <th>Present_Price</th>\n",
       "      <th>Kms_Driven</th>\n",
       "      <th>Fuel_Type</th>\n",
       "      <th>Seller_Type</th>\n",
       "      <th>Transmission</th>\n",
       "      <th>Owner</th>\n",
       "    </tr>\n",
       "  </thead>\n",
       "  <tbody>\n",
       "    <tr>\n",
       "      <th>0</th>\n",
       "      <td>ritz</td>\n",
       "      <td>2014</td>\n",
       "      <td>3.35</td>\n",
       "      <td>5.59</td>\n",
       "      <td>27000</td>\n",
       "      <td>Petrol</td>\n",
       "      <td>Dealer</td>\n",
       "      <td>Manual</td>\n",
       "      <td>0</td>\n",
       "    </tr>\n",
       "    <tr>\n",
       "      <th>1</th>\n",
       "      <td>sx4</td>\n",
       "      <td>2013</td>\n",
       "      <td>4.75</td>\n",
       "      <td>9.54</td>\n",
       "      <td>43000</td>\n",
       "      <td>Diesel</td>\n",
       "      <td>Dealer</td>\n",
       "      <td>Manual</td>\n",
       "      <td>0</td>\n",
       "    </tr>\n",
       "    <tr>\n",
       "      <th>2</th>\n",
       "      <td>ciaz</td>\n",
       "      <td>2017</td>\n",
       "      <td>7.25</td>\n",
       "      <td>9.85</td>\n",
       "      <td>6900</td>\n",
       "      <td>Petrol</td>\n",
       "      <td>Dealer</td>\n",
       "      <td>Manual</td>\n",
       "      <td>0</td>\n",
       "    </tr>\n",
       "    <tr>\n",
       "      <th>3</th>\n",
       "      <td>wagon r</td>\n",
       "      <td>2011</td>\n",
       "      <td>2.85</td>\n",
       "      <td>4.15</td>\n",
       "      <td>5200</td>\n",
       "      <td>Petrol</td>\n",
       "      <td>Dealer</td>\n",
       "      <td>Manual</td>\n",
       "      <td>0</td>\n",
       "    </tr>\n",
       "    <tr>\n",
       "      <th>4</th>\n",
       "      <td>swift</td>\n",
       "      <td>2014</td>\n",
       "      <td>4.60</td>\n",
       "      <td>6.87</td>\n",
       "      <td>42450</td>\n",
       "      <td>Diesel</td>\n",
       "      <td>Dealer</td>\n",
       "      <td>Manual</td>\n",
       "      <td>0</td>\n",
       "    </tr>\n",
       "  </tbody>\n",
       "</table>\n",
       "</div>"
      ],
      "text/plain": [
       "  Car_Name  Year  Selling_Price  Present_Price  Kms_Driven Fuel_Type  \\\n",
       "0     ritz  2014           3.35           5.59       27000    Petrol   \n",
       "1      sx4  2013           4.75           9.54       43000    Diesel   \n",
       "2     ciaz  2017           7.25           9.85        6900    Petrol   \n",
       "3  wagon r  2011           2.85           4.15        5200    Petrol   \n",
       "4    swift  2014           4.60           6.87       42450    Diesel   \n",
       "\n",
       "  Seller_Type Transmission  Owner  \n",
       "0      Dealer       Manual      0  \n",
       "1      Dealer       Manual      0  \n",
       "2      Dealer       Manual      0  \n",
       "3      Dealer       Manual      0  \n",
       "4      Dealer       Manual      0  "
      ]
     },
     "execution_count": 13,
     "metadata": {},
     "output_type": "execute_result"
    }
   ],
   "source": [
    "data.head()"
   ]
  },
  {
   "cell_type": "code",
   "execution_count": 14,
   "id": "9d5fa775",
   "metadata": {},
   "outputs": [],
   "source": [
    "# Converting Petrol = 0, Diesel = 1, and CNG = 2\n",
    "data[\"Fuel_Type\"] = data[\"Fuel_Type\"].map({\"Petrol\": 0, \"Diesel\": 1, \"CNG\": 2})\n",
    "\n",
    "# Converting Dealer = 0, Individual = 1\n",
    "data[\"Seller_Type\"] = data[\"Seller_Type\"].map({\"Dealer\": 0, \"Individual\": 1})\n",
    "\n",
    "# Converting Manual = 0, Automatic = 1\n",
    "data[\"Transmission\"] = data[\"Transmission\"].map({\"Manual\": 0, \"Automatic\": 1})"
   ]
  },
  {
   "cell_type": "code",
   "execution_count": 15,
   "id": "90583b3d",
   "metadata": {},
   "outputs": [
    {
     "data": {
      "text/html": [
       "<div>\n",
       "<style scoped>\n",
       "    .dataframe tbody tr th:only-of-type {\n",
       "        vertical-align: middle;\n",
       "    }\n",
       "\n",
       "    .dataframe tbody tr th {\n",
       "        vertical-align: top;\n",
       "    }\n",
       "\n",
       "    .dataframe thead th {\n",
       "        text-align: right;\n",
       "    }\n",
       "</style>\n",
       "<table border=\"1\" class=\"dataframe\">\n",
       "  <thead>\n",
       "    <tr style=\"text-align: right;\">\n",
       "      <th></th>\n",
       "      <th>Car_Name</th>\n",
       "      <th>Year</th>\n",
       "      <th>Selling_Price</th>\n",
       "      <th>Present_Price</th>\n",
       "      <th>Kms_Driven</th>\n",
       "      <th>Fuel_Type</th>\n",
       "      <th>Seller_Type</th>\n",
       "      <th>Transmission</th>\n",
       "      <th>Owner</th>\n",
       "    </tr>\n",
       "  </thead>\n",
       "  <tbody>\n",
       "    <tr>\n",
       "      <th>0</th>\n",
       "      <td>ritz</td>\n",
       "      <td>2014</td>\n",
       "      <td>3.35</td>\n",
       "      <td>5.59</td>\n",
       "      <td>27000</td>\n",
       "      <td>0</td>\n",
       "      <td>0</td>\n",
       "      <td>0</td>\n",
       "      <td>0</td>\n",
       "    </tr>\n",
       "    <tr>\n",
       "      <th>1</th>\n",
       "      <td>sx4</td>\n",
       "      <td>2013</td>\n",
       "      <td>4.75</td>\n",
       "      <td>9.54</td>\n",
       "      <td>43000</td>\n",
       "      <td>1</td>\n",
       "      <td>0</td>\n",
       "      <td>0</td>\n",
       "      <td>0</td>\n",
       "    </tr>\n",
       "    <tr>\n",
       "      <th>2</th>\n",
       "      <td>ciaz</td>\n",
       "      <td>2017</td>\n",
       "      <td>7.25</td>\n",
       "      <td>9.85</td>\n",
       "      <td>6900</td>\n",
       "      <td>0</td>\n",
       "      <td>0</td>\n",
       "      <td>0</td>\n",
       "      <td>0</td>\n",
       "    </tr>\n",
       "    <tr>\n",
       "      <th>3</th>\n",
       "      <td>wagon r</td>\n",
       "      <td>2011</td>\n",
       "      <td>2.85</td>\n",
       "      <td>4.15</td>\n",
       "      <td>5200</td>\n",
       "      <td>0</td>\n",
       "      <td>0</td>\n",
       "      <td>0</td>\n",
       "      <td>0</td>\n",
       "    </tr>\n",
       "    <tr>\n",
       "      <th>4</th>\n",
       "      <td>swift</td>\n",
       "      <td>2014</td>\n",
       "      <td>4.60</td>\n",
       "      <td>6.87</td>\n",
       "      <td>42450</td>\n",
       "      <td>1</td>\n",
       "      <td>0</td>\n",
       "      <td>0</td>\n",
       "      <td>0</td>\n",
       "    </tr>\n",
       "  </tbody>\n",
       "</table>\n",
       "</div>"
      ],
      "text/plain": [
       "  Car_Name  Year  Selling_Price  Present_Price  Kms_Driven  Fuel_Type  \\\n",
       "0     ritz  2014           3.35           5.59       27000          0   \n",
       "1      sx4  2013           4.75           9.54       43000          1   \n",
       "2     ciaz  2017           7.25           9.85        6900          0   \n",
       "3  wagon r  2011           2.85           4.15        5200          0   \n",
       "4    swift  2014           4.60           6.87       42450          1   \n",
       "\n",
       "   Seller_Type  Transmission  Owner  \n",
       "0            0             0      0  \n",
       "1            0             0      0  \n",
       "2            0             0      0  \n",
       "3            0             0      0  \n",
       "4            0             0      0  "
      ]
     },
     "execution_count": 15,
     "metadata": {},
     "output_type": "execute_result"
    }
   ],
   "source": [
    "data.head()"
   ]
  },
  {
   "cell_type": "markdown",
   "id": "70215764",
   "metadata": {},
   "source": [
    "### Data Visualisation"
   ]
  },
  {
   "cell_type": "code",
   "execution_count": 16,
   "id": "34dff343",
   "metadata": {},
   "outputs": [
    {
     "data": {
      "image/png": "[encoded data removed]",
      "text/plain": [
       "<Figure size 432x432 with 1 Axes>"
      ]
     },
     "metadata": {},
     "output_type": "display_data"
    }
   ],
   "source": [
    "# Visualising the spread of fuel type data\n",
    "data[\"Fuel_Type\"].value_counts().plot(kind = \"pie\",\n",
    "                                      figsize = (6, 6),\n",
    "                                      labels = [\"Petrol\", \"Diesel\", \"CNG\"],\n",
    "                                      autopct=\"%1.1f%%\"\n",
    "                                      )\n",
    "plt.show()"
   ]
  },
  {
   "cell_type": "markdown",
   "id": "8d175e60",
   "metadata": {},
   "source": [
    "As seen above, it is clear that the number of petrol vehicle types dominates the other fuel types. "
   ]
  },
  {
   "cell_type": "code",
   "execution_count": 17,
   "id": "97fb14aa",
   "metadata": {},
   "outputs": [
    {
     "data": {
      "image/png": "[encoded data removed]",
      "text/plain": [
       "<Figure size 432x432 with 1 Axes>"
      ]
     },
     "metadata": {},
     "output_type": "display_data"
    }
   ],
   "source": [
    "data[\"Transmission\"].value_counts().plot(kind = \"pie\",\n",
    "                                         labels = [\"Manual\", \"Automatic\"],\n",
    "                                         autopct = \"%1.1f%%\",\n",
    "                                         figsize = (6, 6),\n",
    "                                         colors=[\"grey\", \"olive\"]\n",
    "                                        )\n",
    "plt.show()"
   ]
  },
  {
   "cell_type": "markdown",
   "id": "abed6bc4",
   "metadata": {},
   "source": [
    "Manual transmission vehicles dominate the number of automatic vehicles. According to DRiV Parts, automatic vehicles are now dominating sales as of 2020. An estimated 95% of vehicles sold in the United States were automatic transmission vehicles due to their ease of use - the driver only has to change gears once and focus on the road. This serves as a reminder that the vehicle data collected ends at 2018 models. Now this does not mean that the last sale recorded was in 2018, only that the most recent vehicle recorded was a 2018 model. A simple explanation as to why manual transmission dominates automatic is that these are pre-owned vehicles that are being sold. Most of which anyways. A comprehensive analysis would lead one to identify whether the owners of these vehicles were selling them to switch to automatic transmission vehicles. \n",
    "\n",
    "Another interesting note to make is that manual transmission vehicle sales are likely to plummet and only a select few of individuals will still make use of manual transmission vehicles. This is in light of the drive to produce electric vehicles (EVs). Not only are Tesla working towards dominating the EV market, but competitors have now joined the fight in BMW, Mercedes, Land Rover, and others to name a few. Announced on the 22 July 2021, by Mercedes in Stuttgart Germany, Mercedes plans to go all-electric by the end of the decade (2030). The organisation has pledged an amount in excess of 40 billion euros towards research and development into electric-only vehicles. Along with the announcement, is Mercedes' intention to switch from electric-first vehicles, to electric-only vehicles. From 2025 onwards, the company plans to launch electric-only architectures, with three of them planned for 2025. This will likely encourage other competitors such as BMW, to ramp their developments in electric vehicles up significantly.\n",
    "\n",
    "This information is noted due to the increased standard of living many countries are facing now. Rising prices have seen to it that affordability of goods is becoming difficult to manage, and this factor may affect the market share of Petrol, Diesel, Natural Gas, and other gas type vehicles against the market share of EVs. As organisation's such as Tesla are now offering renewable sources of energy, on top of EVs, it may be assumed that more will adopt the full scope of product offering. Much like how Apple has created an ecosystem where the owner of an iPhone is likely to own a MacBook, an iPad, AirPods, and an Apple Watch, consumers may look to invest in solar-powered housing, an electric vehicle, and so on. These are only assumptions however."
   ]
  },
  {
   "cell_type": "code",
   "execution_count": 26,
   "id": "164cd3fb",
   "metadata": {},
   "outputs": [
    {
     "data": {
      "image/png": "[encoded data removed]",
      "text/plain": [
       "<Figure size 576x432 with 1 Axes>"
      ]
     },
     "metadata": {
      "needs_background": "light"
     },
     "output_type": "display_data"
    }
   ],
   "source": [
    "# Calculate value counts for \"Seller_Type\"\n",
    "seller_counts = data[\"Seller_Type\"].value_counts()\n",
    "\n",
    "# Create the horizontal bar plot\n",
    "ax = seller_counts.plot(kind = \"barh\",\n",
    "                        color = [\"red\", \"orange\"],\n",
    "                        figsize = (8, 6))\n",
    "                        \n",
    "# Set x-axis label\n",
    "ax.set_xlabel(\"Number of Vehicles\")\n",
    "\n",
    "# Set x-axis tick labels\n",
    "ax.set_yticklabels([\"Dealership\", \"Private\"])\n",
    "\n",
    "# Set plot title\n",
    "ax.set_title(\"Number of Vehicles Sold by Dealerships vs Privately\")\n",
    "\n",
    "# Show the plot\n",
    "plt.show()"
   ]
  },
  {
   "cell_type": "markdown",
   "id": "d088a795",
   "metadata": {},
   "source": [
    "Evidently, the number of pre-owned vehicles sold are predominantly from a dealership. This may be because consumers are more trusting of a vehicle that has been owned by a reputable entity. While both dealerships and private owners seek payment for the vehicle, private owners do not have a reputation to uphold. It is very easy for a private owner to conceal the history of a vehicle, such as the accidents it has been involved in, issues they have faced in the past, and other implications hurting the value of the vehicle. Whereas a dealership has a reputation to uphold. If it is discovered that the dealership is hiding important information from its customers, the brand will suffer. This does not prevent dealerships from committing this act though, only that the repercussions may be more detrimental to their future than that of a private owner. "
   ]
  },
  {
   "cell_type": "code",
   "execution_count": 39,
   "id": "d1583e5b",
   "metadata": {},
   "outputs": [
    {
     "data": {
      "image/png": "[encoded data removed]",
      "text/plain": [
       "<Figure size 864x720 with 1 Axes>"
      ]
     },
     "metadata": {
      "needs_background": "light"
     },
     "output_type": "display_data"
    }
   ],
   "source": [
    "data[\"Car_Name\"].value_counts().nlargest(10).plot(kind = \"bar\",\n",
    "                                     figsize = (12, 10),\n",
    "                                     xlabel = \"Vehicle Brand\",\n",
    "                                     ylabel = \"Number of Times Sold\",\n",
    "                                     color = \"#272829\",\n",
    "                                     rot = 0,\n",
    "                                     title = \"Top 10 most sold vehicles grouped by brand\"\n",
    "                                    )\n",
    "plt.show()"
   ]
  },
  {
   "cell_type": "code",
   "execution_count": 44,
   "id": "8af00019",
   "metadata": {},
   "outputs": [],
   "source": [
    "wordcloud_data = data[\"Car_Name\"].value_counts().nlargest(10).index # top 10 car brand names"
   ]
  },
  {
   "cell_type": "code",
   "execution_count": 52,
   "id": "6aec87d1",
   "metadata": {},
   "outputs": [
    {
     "data": {
      "image/png": "[encoded data removed]",
      "text/plain": [
       "<Figure size 576x576 with 1 Axes>"
      ]
     },
     "metadata": {
      "needs_background": "light"
     },
     "output_type": "display_data"
    }
   ],
   "source": [
    "comment_words = \"\"\n",
    "stopwords = set(STOPWORDS)\n",
    "\n",
    "for value in wordcloud_data:\n",
    "     \n",
    "    # typecaste each value to string\n",
    "    value = str(val)\n",
    " \n",
    "    # split the value\n",
    "    tokens = value.split()\n",
    "     \n",
    "    # Converts each token into lowercase\n",
    "    for index in range(len(tokens)):\n",
    "        tokens[index] = tokens[index].lower()\n",
    "     \n",
    "    comment_words += \" \".join(tokens) + \" \"\n",
    " \n",
    "wordcloud = WordCloud(width = 800, height = 800,\n",
    "                background_color = \"white\",\n",
    "                stopwords = stopwords,\n",
    "                min_font_size = 10).generate(comment_words)\n",
    " \n",
    "# plot the WordCloud image                      \n",
    "plt.figure(figsize = (8, 8), facecolor = None)\n",
    "plt.imshow(wordcloud)\n",
    "plt.axis(\"off\")\n",
    "plt.tight_layout(pad = 0)\n",
    " \n",
    "plt.show()"
   ]
  },
  {
   "cell_type": "markdown",
   "id": "59e472ee",
   "metadata": {},
   "source": [
    "\"City\" shows up as the most sold vehicle in the set. "
   ]
  },
  {
   "cell_type": "code",
   "execution_count": 59,
   "id": "a854f9bb",
   "metadata": {},
   "outputs": [
    {
     "data": {
      "image/png": "[encoded data removed]",
      "text/plain": [
       "<Figure size 720x432 with 1 Axes>"
      ]
     },
     "metadata": {
      "needs_background": "light"
     },
     "output_type": "display_data"
    }
   ],
   "source": [
    "# Count the occurrences of each car name\n",
    "top_cars = data[\"Car_Name\"].value_counts().nlargest(10)\n",
    "\n",
    "# Group the top car names by seller type and count occurrences\n",
    "seller_grouped = data[data[\"Car_Name\"].isin(top_cars.index)].groupby([\"Car_Name\", \"Seller_Type\"]).size().unstack(fill_value=0)\n",
    "\n",
    "# Plot the grouped data\n",
    "ax = seller_grouped.plot(kind=\"bar\", stacked=False, figsize=(10, 6))\n",
    "ax.set_xlabel(\"Vehicle Brand\")\n",
    "ax.set_ylabel(\"Count\")\n",
    "ax.set_title(\"Top 10 Cars Sold by Dealership vs Privately\")\n",
    "ax.legend([\"Dealership\", \"Private\"])\n",
    "ax.set_xticklabels(ax.get_xticklabels(), rotation=0)\n",
    "\n",
    "# Show the plot\n",
    "plt.show()"
   ]
  },
  {
   "cell_type": "markdown",
   "id": "a0f9dbf1",
   "metadata": {},
   "source": [
    "The above bar plot reveals that the most sold vehicle is from a dealership, not privately sold. Only two vehicles of the vehicles recorded within the top 10 most sold vehicles have been sold privately. But only one of each, the rest being from a dealership."
   ]
  },
  {
   "cell_type": "markdown",
   "id": "c588c873",
   "metadata": {},
   "source": [
    "### Statistical Analysis"
   ]
  },
  {
   "cell_type": "markdown",
   "id": "8a94d88b",
   "metadata": {},
   "source": [
    "Having visualised certain features of the dataset, questions have cropped up. These are the following questions that the analysis aims to answer:\n",
    "\n",
    "* What is the correlation between the model year and the selling price?\n",
    "<br><br>\n",
    "* By how much does the number of kilometres driven affect the price of the vehicle?\n",
    "<br><br>\n",
    "* What is the biggest contributor to the selling price of the vehicle? Is it the kilometres driven? Is it the year model of the vehicle? Is it the number of owners the vehicle has previously had? Is it the fuel price or the current market price of the vehicle? All of these are contributing factors, but the aim of this analysis is to determine which factor plays the biggest role.\n",
    "<br><br>\n",
    "* Is the vehicle brand perhaps the biggest selling factor? Or the transmission type of the vehicle?\n"
   ]
  },
  {
   "cell_type": "code",
   "execution_count": 66,
   "id": "c05e4096",
   "metadata": {},
   "outputs": [
    {
     "data": {
      "text/html": [
       "<div>\n",
       "<style scoped>\n",
       "    .dataframe tbody tr th:only-of-type {\n",
       "        vertical-align: middle;\n",
       "    }\n",
       "\n",
       "    .dataframe tbody tr th {\n",
       "        vertical-align: top;\n",
       "    }\n",
       "\n",
       "    .dataframe thead th {\n",
       "        text-align: right;\n",
       "    }\n",
       "</style>\n",
       "<table border=\"1\" class=\"dataframe\">\n",
       "  <thead>\n",
       "    <tr style=\"text-align: right;\">\n",
       "      <th></th>\n",
       "      <th>Year</th>\n",
       "      <th>Selling_Price</th>\n",
       "      <th>Present_Price</th>\n",
       "      <th>Kms_Driven</th>\n",
       "      <th>Fuel_Type</th>\n",
       "      <th>Seller_Type</th>\n",
       "      <th>Transmission</th>\n",
       "      <th>Owner</th>\n",
       "    </tr>\n",
       "  </thead>\n",
       "  <tbody>\n",
       "    <tr>\n",
       "      <th>Year</th>\n",
       "      <td>1.000000</td>\n",
       "      <td>0.236141</td>\n",
       "      <td>-0.047584</td>\n",
       "      <td>-0.524342</td>\n",
       "      <td>0.053643</td>\n",
       "      <td>-0.039896</td>\n",
       "      <td>-0.000394</td>\n",
       "      <td>-0.182104</td>\n",
       "    </tr>\n",
       "    <tr>\n",
       "      <th>Selling_Price</th>\n",
       "      <td>0.236141</td>\n",
       "      <td>1.000000</td>\n",
       "      <td>0.878983</td>\n",
       "      <td>0.029187</td>\n",
       "      <td>0.509467</td>\n",
       "      <td>-0.550724</td>\n",
       "      <td>0.367128</td>\n",
       "      <td>-0.088344</td>\n",
       "    </tr>\n",
       "    <tr>\n",
       "      <th>Present_Price</th>\n",
       "      <td>-0.047584</td>\n",
       "      <td>0.878983</td>\n",
       "      <td>1.000000</td>\n",
       "      <td>0.203647</td>\n",
       "      <td>0.440415</td>\n",
       "      <td>-0.512030</td>\n",
       "      <td>0.348715</td>\n",
       "      <td>0.008057</td>\n",
       "    </tr>\n",
       "    <tr>\n",
       "      <th>Kms_Driven</th>\n",
       "      <td>-0.524342</td>\n",
       "      <td>0.029187</td>\n",
       "      <td>0.203647</td>\n",
       "      <td>1.000000</td>\n",
       "      <td>0.166801</td>\n",
       "      <td>-0.101419</td>\n",
       "      <td>0.162510</td>\n",
       "      <td>0.089216</td>\n",
       "    </tr>\n",
       "    <tr>\n",
       "      <th>Fuel_Type</th>\n",
       "      <td>0.053643</td>\n",
       "      <td>0.509467</td>\n",
       "      <td>0.440415</td>\n",
       "      <td>0.166801</td>\n",
       "      <td>1.000000</td>\n",
       "      <td>-0.352415</td>\n",
       "      <td>0.080466</td>\n",
       "      <td>-0.055705</td>\n",
       "    </tr>\n",
       "    <tr>\n",
       "      <th>Seller_Type</th>\n",
       "      <td>-0.039896</td>\n",
       "      <td>-0.550724</td>\n",
       "      <td>-0.512030</td>\n",
       "      <td>-0.101419</td>\n",
       "      <td>-0.352415</td>\n",
       "      <td>1.000000</td>\n",
       "      <td>-0.063240</td>\n",
       "      <td>0.124269</td>\n",
       "    </tr>\n",
       "    <tr>\n",
       "      <th>Transmission</th>\n",
       "      <td>-0.000394</td>\n",
       "      <td>0.367128</td>\n",
       "      <td>0.348715</td>\n",
       "      <td>0.162510</td>\n",
       "      <td>0.080466</td>\n",
       "      <td>-0.063240</td>\n",
       "      <td>1.000000</td>\n",
       "      <td>0.050316</td>\n",
       "    </tr>\n",
       "    <tr>\n",
       "      <th>Owner</th>\n",
       "      <td>-0.182104</td>\n",
       "      <td>-0.088344</td>\n",
       "      <td>0.008057</td>\n",
       "      <td>0.089216</td>\n",
       "      <td>-0.055705</td>\n",
       "      <td>0.124269</td>\n",
       "      <td>0.050316</td>\n",
       "      <td>1.000000</td>\n",
       "    </tr>\n",
       "  </tbody>\n",
       "</table>\n",
       "</div>"
      ],
      "text/plain": [
       "                   Year  Selling_Price  Present_Price  Kms_Driven  Fuel_Type  \\\n",
       "Year           1.000000       0.236141      -0.047584   -0.524342   0.053643   \n",
       "Selling_Price  0.236141       1.000000       0.878983    0.029187   0.509467   \n",
       "Present_Price -0.047584       0.878983       1.000000    0.203647   0.440415   \n",
       "Kms_Driven    -0.524342       0.029187       0.203647    1.000000   0.166801   \n",
       "Fuel_Type      0.053643       0.509467       0.440415    0.166801   1.000000   \n",
       "Seller_Type   -0.039896      -0.550724      -0.512030   -0.101419  -0.352415   \n",
       "Transmission  -0.000394       0.367128       0.348715    0.162510   0.080466   \n",
       "Owner         -0.182104      -0.088344       0.008057    0.089216  -0.055705   \n",
       "\n",
       "               Seller_Type  Transmission     Owner  \n",
       "Year             -0.039896     -0.000394 -0.182104  \n",
       "Selling_Price    -0.550724      0.367128 -0.088344  \n",
       "Present_Price    -0.512030      0.348715  0.008057  \n",
       "Kms_Driven       -0.101419      0.162510  0.089216  \n",
       "Fuel_Type        -0.352415      0.080466 -0.055705  \n",
       "Seller_Type       1.000000     -0.063240  0.124269  \n",
       "Transmission     -0.063240      1.000000  0.050316  \n",
       "Owner             0.124269      0.050316  1.000000  "
      ]
     },
     "execution_count": 66,
     "metadata": {},
     "output_type": "execute_result"
    }
   ],
   "source": [
    "data.corr()"
   ]
  },
  {
   "cell_type": "code",
   "execution_count": 81,
   "id": "f90ad118",
   "metadata": {},
   "outputs": [
    {
     "data": {
      "image/png": "[encoded data removed]",
      "text/plain": [
       "<Figure size 720x720 with 2 Axes>"
      ]
     },
     "metadata": {
      "needs_background": "light"
     },
     "output_type": "display_data"
    }
   ],
   "source": [
    "plt.figure(figsize=(10, 10))\n",
    "ax = sns.heatmap(data=data.corr())\n",
    "\n",
    "# Rotate x-axis labels to a specified angle\n",
    "ax.set_title(\"Correlation Analysis of the various features of the dataset\", fontsize=14)\n",
    "ax.set_xticklabels(ax.get_xticklabels(), rotation=45, ha=\"right\")\n",
    "ax.set_yticklabels(ax.get_yticklabels(), rotation=0)\n",
    "\n",
    "plt.show()"
   ]
  },
  {
   "cell_type": "markdown",
   "id": "f98ffa24",
   "metadata": {},
   "source": [
    "### Breakdown of the correlation analysis above:\n",
    "\n",
    "* The year of the model has the strongest correlation to the selling price of the vehicle. It is the strongest of the factors, but it does not affect it that much.\n",
    "<br><br>\n",
    "* Selling price has the strongest correlation to the current price, which is a very interesting find. The fuel type of the vehicle seems to play a big enough role to take note of as well, and transmission coming in as the third contributing factor. This find is very interesting because it may lead one to believe that dealerships price their pre-owned vehicles based on the current market price of new vehicles of that brand. So say the market price for a Ferrari is 2 million dollars, dealerships are likely to use that figure as a \"yard-stick.\" They may want to be close to that number, therefore, pricing their pre-owned vehicles at a value that is close enough to 2 million dollars. Fuel type plays a big role as well, but this may be dependent on the region. As assumed earlier, these vehicle sales may be related to vehicles sold in the USA. As an assumption, it could be that access to certain fuel has an effect on this. It may be that petrol is readily accessible, maybe slightly even more affordable than diesel, and natural gas. Further research may provide more information, and answer the question.\n",
    "<br><br>\n",
    "* The same may be said for the present price. The selling price has the highest correlation to the present price, fuel type, and transmission type. \n",
    "<br><br>\n",
    "* The seller type (whether it is a dealership or a private sale) has a negative correlation to the selling price. This means that the selling price is very likely to be negatively affected if the vehicle is sold privately, as opposed to being sold at a dealership. This is a great find as it indicates that consumers are more trusting of reputable dealerships, largely because dealerships have more to lose if the sale does not appear to be in favour of the consumer. Again, branding plays a big role here. Consumers seem to appreciate the sale from a source that they know, can trust, and have likely purchased a vehicle from already.\n",
    "<br><br>\n",
    "\n",
    "While there are other factors at play, it is clear to see which factors play the biggest role in determining the selling price of the vehicle. These factors include, but are not limited to:\n",
    "\n",
    "1. The current price of a brand new model of the vehicle\n",
    "2. The seller type (whether it is from a dealership or a private sale)\n",
    "3. The fuel type of the vehicle\n",
    "4. The type of transmission of the vehicle\n",
    "\n",
    "It is very surprising that the number of owners the vehicle has had does not affect the selling price to the extent that the above 4 factors do. This includes the number of kilometres driven. Why kilometres do not play a significant role will be investigated."
   ]
  },
  {
   "cell_type": "code",
   "execution_count": 84,
   "id": "c2b1a9e5",
   "metadata": {},
   "outputs": [
    {
     "data": {
      "text/plain": [
       "36947.20598006644"
      ]
     },
     "execution_count": 84,
     "metadata": {},
     "output_type": "execute_result"
    }
   ],
   "source": [
    "data[\"Kms_Driven\"].mean()"
   ]
  },
  {
   "cell_type": "markdown",
   "id": "a69a3443",
   "metadata": {},
   "source": [
    "The above return reveals that the average number of kilometres driven is 36 947.21km. This explains why the number of kilometres driven does not play a significant role. A pre-owned vehicle that has not exceeded 40 000km is a good find, which would also explain why the selling price is so close to that of the current price. Because these vehicles have not been used excessively, they may be passed off as \"relatively new\", therefore allowing dealerships to price them close to the current market value of the vehicle. This has shed more light on the dataset."
   ]
  },
  {
   "cell_type": "markdown",
   "id": "1f300d92",
   "metadata": {},
   "source": [
    "### Linear Regression Model"
   ]
  },
  {
   "cell_type": "markdown",
   "id": "e0e69e4a",
   "metadata": {},
   "source": [
    "Having observed the features, the next step will involve building a linear regression model to generate predictions on the selling price, based on the four factors listed above, being the current price of the vehicle, the fuel type of the vehicle, the transmission type of the vehicle, and the seller type of the vehicle. As it was not mentioned earlier, the correlation analysis reveals that automatic vehicle transmissions are likely to fetch a higher price than manual transmission vehicles, even though the majority of vehicles in the dataset are manual vehicles."
   ]
  },
  {
   "cell_type": "markdown",
   "id": "f213cd74",
   "metadata": {},
   "source": [
    "#### Assigning Model Variables"
   ]
  },
  {
   "cell_type": "code",
   "execution_count": 86,
   "id": "6c1dff39",
   "metadata": {},
   "outputs": [],
   "source": [
    "# Independent Variables\n",
    "x = data[[\"Present_Price\", \"Seller_Type\", \"Transmission\", \"Fuel_Type\"]].values.reshape(-1, 4)\n",
    "\n",
    "# Dependent Variable\n",
    "y = data[\"Selling_Price\"].values"
   ]
  },
  {
   "cell_type": "code",
   "execution_count": 87,
   "id": "9362c1a6",
   "metadata": {},
   "outputs": [],
   "source": [
    "# Separating the values into training and test sets (80:20)\n",
    "x_train, x_test, y_train, y_test = train_test_split(x, y, test_size=0.2, random_state=0)"
   ]
  },
  {
   "cell_type": "code",
   "execution_count": 88,
   "id": "04b1b5d9",
   "metadata": {},
   "outputs": [],
   "source": [
    "# Initialising the model\n",
    "model = LinearRegression().fit(x_train, y_train)"
   ]
  },
  {
   "cell_type": "code",
   "execution_count": 89,
   "id": "1176ff8f",
   "metadata": {},
   "outputs": [
    {
     "data": {
      "text/plain": [
       "array([ 6.81729252,  0.3333526 ,  3.77537923,  7.722553  , 12.46605813,\n",
       "        3.88647938,  4.22389465,  0.21978355,  5.60559152,  5.29786276])"
      ]
     },
     "execution_count": 89,
     "metadata": {},
     "output_type": "execute_result"
    }
   ],
   "source": [
    "# Generating predictions \n",
    "predictions = model.predict(x_test)\n",
    "predictions[:10]"
   ]
  },
  {
   "cell_type": "markdown",
   "id": "5ef0ba73",
   "metadata": {},
   "source": [
    "#### Observing Model Performance"
   ]
  },
  {
   "cell_type": "markdown",
   "id": "5f3f3519",
   "metadata": {},
   "source": [
    "#### Formula for Adjusted R-Squared\n",
    "\n",
    "$R^2_{adj.} = 1 - (1 - R^2) * \\frac{n - 1}{n - p - 1}$"
   ]
  },
  {
   "cell_type": "markdown",
   "id": "017a872e",
   "metadata": {},
   "source": [
    "* `n` - Number of observations\n",
    "<br> <br>\n",
    "* `p` - Number of predictors"
   ]
  },
  {
   "cell_type": "code",
   "execution_count": 91,
   "id": "7ffc47c7",
   "metadata": {},
   "outputs": [],
   "source": [
    "coefficients = model.coef_\n",
    "intercept = model.intercept_\n",
    "r2 = model.score(x_test, y_test)"
   ]
  },
  {
   "cell_type": "code",
   "execution_count": 92,
   "id": "d39a7230",
   "metadata": {},
   "outputs": [
    {
     "data": {
      "text/plain": [
       "array([ 0.41148204, -1.43646318,  1.38169688,  1.51942976])"
      ]
     },
     "execution_count": 92,
     "metadata": {},
     "output_type": "execute_result"
    }
   ],
   "source": [
    "coefficients"
   ]
  },
  {
   "cell_type": "markdown",
   "id": "92b3e523",
   "metadata": {},
   "source": [
    "The coefficients above reveal which factors affect the selling price. The model has determined \"Transmission\" and \"Fuel Type\" to be the values with the largest coefficients, indicating that the model has identified these two variables to be the largest contributors to an increase in price. It has also identified that \"Seller Type\" that is not a dealership will have a significantly negative effect on the selling price. This agrees with the findings discovered earlier in this analysis."
   ]
  },
  {
   "cell_type": "code",
   "execution_count": 93,
   "id": "67bee233",
   "metadata": {},
   "outputs": [
    {
     "data": {
      "text/plain": [
       "0.8414839496906901"
      ]
     },
     "execution_count": 93,
     "metadata": {},
     "output_type": "execute_result"
    }
   ],
   "source": [
    "r2"
   ]
  },
  {
   "cell_type": "code",
   "execution_count": 95,
   "id": "79a10478",
   "metadata": {},
   "outputs": [
    {
     "data": {
      "text/plain": [
       "0.8301613746685965"
      ]
     },
     "execution_count": 95,
     "metadata": {},
     "output_type": "execute_result"
    }
   ],
   "source": [
    "n = x_test.shape[0]\n",
    "p = x_test.shape[1]\n",
    "\n",
    "adjusted_r2 = 1 - ((1 - r2) * (n - 1) / (n - p - 1))\n",
    "adjusted_r2"
   ]
  },
  {
   "cell_type": "markdown",
   "id": "6ac278d1",
   "metadata": {},
   "source": [
    "$R^2$ and $R^2_{adj.}$ show promising signs of the model's performance. $R^2$ informs us that 84% of the dependent variable's variance is explained by the independent variables. This suggests that the variables current price, seller type, transmission, and fuel type explain a significant portion of the variance. The $R^2_{adj.}$ is a precautionary measure included to assess the model's true performance. With this value being very close to $R^2$, the $R^2_{adj.}$ suggests that the number of irrelevant independent variables provided to the model are not prevalent. It is important to note that the variable with the coefficient that may be resulting in the model's performance is the current price of the vehicle. The coefficient `0.41148204` suggests that the current price does play a role, but not as much as the other three factors."
   ]
  },
  {
   "cell_type": "markdown",
   "id": "58f0ae78",
   "metadata": {},
   "source": [
    "### Visualising Model Performance"
   ]
  },
  {
   "cell_type": "code",
   "execution_count": 113,
   "id": "c1fae534",
   "metadata": {},
   "outputs": [],
   "source": [
    "x_variables = [\"Market Price\", \"Seller Type\", \"Transmission\", \"Fuel Type\"]"
   ]
  },
  {
   "cell_type": "code",
   "execution_count": 116,
   "id": "7b5951e7",
   "metadata": {},
   "outputs": [
    {
     "data": {
      "image/png": "[encoded data removed]",
      "text/plain": [
       "<Figure size 1080x288 with 4 Axes>"
      ]
     },
     "metadata": {
      "needs_background": "light"
     },
     "output_type": "display_data"
    }
   ],
   "source": [
    "fig, axes = plt.subplots(1, x_test.shape[1], figsize=(15, 4))\n",
    "\n",
    "# Visualize Regression Lines for each independent variable\n",
    "for index, ax in enumerate(axes):\n",
    "    x_var = x_test[:, index] # independent variable\n",
    "    pred_var = intercept + np.dot(x_var, model.coef_[index]) # regression line formula per independent variable\n",
    "    \n",
    "    ax.scatter(x_var, y_test, label=\"Actual\", alpha=0.5)\n",
    "    ax.plot(x_var, pred_var, color=\"orange\", linewidth=2, label=\"Predicted\")\n",
    "    ax.set_xlabel(x_variables[index])\n",
    "    ax.set_ylabel(\"Selling Price\")\n",
    "    ax.set_title(f\"Regression Line {index + 1}\")\n",
    "    ax.legend()\n",
    "    \n",
    "\n",
    "ax.legend()\n",
    "plt.show()"
   ]
  },
  {
   "cell_type": "markdown",
   "id": "1ca02b22",
   "metadata": {},
   "source": [
    "The visualisations above reveal that the variable with the strongest linear relationship to the selling price is the fuel type of the vehicle on the market. A negative linear relationship between the type of seller is visualised, once again revealing that the selling price will be negatively affected if the the vehicle is not from a dealership. The reason for Transmission and Fuel Types lower linearity appearance is a result of the data being scaled. It is clear that there is a linear relationship between the selling price and these variables, but because they have been transformed to 0s and 1s, the linear relationship is not visualised fully. It is clear that there is a linear relationship however. "
   ]
  },
  {
   "cell_type": "code",
   "execution_count": 115,
   "id": "9de07515",
   "metadata": {},
   "outputs": [
    {
     "data": {
      "image/png": "[encoded data removed]",
      "text/plain": [
       "<Figure size 576x432 with 1 Axes>"
      ]
     },
     "metadata": {
      "needs_background": "light"
     },
     "output_type": "display_data"
    }
   ],
   "source": [
    "# Visualising the Residuals\n",
    "plt.figure(figsize=(8, 6))\n",
    "plt.scatter(predictions, residuals)\n",
    "plt.axhline(y=0, color=\"black\", linestyle=\"--\")\n",
    "plt.xlabel(\"Predicted Values\")\n",
    "plt.ylabel(\"Residuals\")\n",
    "plt.title(\"Analysis of Residuals\")\n",
    "plt.show()"
   ]
  },
  {
   "cell_type": "markdown",
   "id": "a19c70a9",
   "metadata": {},
   "source": [
    "This residual analysis is a good sign of the model's performance. For context, any values above the line may be deemed overestimates made by the model. This means that the model estimated the selling price higher than the actual value. Additionally, any value below the black horizontal line indicates that the model underestimated the selling price lower than the actual value. It is promising to see that a large concentration of the values are close to the line, meaning that the model performs the task relatively well, based on the limited data it has been trained on. \n",
    "\n",
    "More training and tuning may lead to better results of course, or perhaps a different model may yield better results. This investigation has answered a few questions and led to interesting finds. But again, it is important to note that the dataset used is very limited. Only 301 records were observed and analysed, therefore limiting the training data that can be provided to the model. Perhaps with more training, the model may perform better, or it may lead to overfitting. Overfitting is a phenomenon that describes a situation where a model has \"memorised\" the data instead of learning the underlying logic of the data. So like in school, where students are trained to memorise material instead of identifying the underlying patterns. But that is a topic for another project haha! "
   ]
  },
  {
   "cell_type": "markdown",
   "id": "531e4fcc",
   "metadata": {},
   "source": [
    "# Closing Thoughts"
   ]
  },
  {
   "cell_type": "markdown",
   "id": "59dc277e",
   "metadata": {},
   "source": [
    "While this may not be deemed a thorough analysis, it has provided a platform to explore further. As the data is very limited, assumptions generalised to the population would not make sense. There are various unaccounted factors that may yield different results in another analysis. What is clear though is that the selling price of a vehicle is likely determined by the market value, the transmission type of the vehicle (whether it is a manual or automatic), the fuel type (petrol, diesel, or natural gas), and the seller type. This is confirmed by these findings:\n",
    "\n",
    "* Automatic vehicles fetch a higher price than manual vehicles\n",
    "<br><br>\n",
    "* Diesel vehicles fetch a higher price than petrol, and natural gas vehicles\n",
    "<br><br>\n",
    "* A higher market value of the vehicle will fetch a higher selling price as sellers may be encouraged to sell the pre-owned vehicle close to the market value of a newer version of the vehicle.\n",
    "<br><br>\n",
    "* Selling from a dealership will fetch a higher price for the vehicle, likely because of the brand that will be associated with the seller of the vehicle playing a big role in determining the price.\n",
    "\n",
    "There are other factors that may determine the selling price of course, but these are findings that have cropped up from this analysis. Perhaps a deeper analysis may reveal different findings. More studies are encouraged here to get to the real answer and contribute to the analysis' comprehensiveness. Regardless, the exploration and analysis was a fun endeavour. More to come soon!"
   ]
  },
  {
   "cell_type": "markdown",
   "id": "473098ec",
   "metadata": {},
   "source": [
    "## Sources:\n",
    "\n",
    "* Driv Parts: \n",
    "https://www.drivparts.com/parts-matter/learning-center/driver-education-and-vehicle-safety/manual-vs-automatic-car.html#:~:text=Popular%20in%20the%20US%20%2D%2095,fluid%20and%20planetary%20gear%20set.\n",
    "\n",
    "* Mercedes Benz: https://media.mbusa.com/releases/release-ee5a810c1007117e79e1c871354679e4-mercedes-benz-prepares-to-go-all-electric\n",
    "\n",
    "* Car and Driver: https://www.caranddriver.com/shopping-advice/a32494027/ev-vs-gas-cheaper-to-own/\n",
    "\n",
    "* Robb Report: https://robbreport.com/motors/cars/mercedes-benz-end-eq-line-not-evs-1234795471/\n",
    "\n",
    "* Daily Maverick: https://www.dailymaverick.co.za/article/2020-06-22-are-manual-cars-still-a-thing-is-there-even-a-future-for-the-old-gear-stick/"
   ]
  }
 ],
 "metadata": {
  "kernelspec": {
   "display_name": "Python 3 (ipykernel)",
   "language": "python",
   "name": "python3"
  },
  "language_info": {
   "codemirror_mode": {
    "name": "ipython",
    "version": 3
   },
   "file_extension": ".py",
   "mimetype": "text/x-python",
   "name": "python",
   "nbconvert_exporter": "python",
   "pygments_lexer": "ipython3",
   "version": "3.9.12"
  }
 },
 "nbformat": 4,
 "nbformat_minor": 5
}
